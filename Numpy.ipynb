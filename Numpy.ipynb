{
 "cells": [
  {
   "cell_type": "markdown",
   "id": "defined-joyce",
   "metadata": {},
   "source": [
    "# 넘파이(Numpy)"
   ]
  },
  {
   "cell_type": "markdown",
   "id": "naked-theorem",
   "metadata": {},
   "source": [
    "넘파이(Numpy)는 수치 데이터를 다루는 파이썬 패키지이다. Numpy의 핵심이라고 불리는 다차원 행렬 자료구조인 ndarray를 통해 벡터 및 행렬을 사용하느 선형 대수 계산에서 주로 사용된다. Numpy는 편의성 뿐만 아니라, 속도면에서도 순수 파이썬에 비해 압도적으로 빠르다는 장점이 있다."
   ]
  },
  {
   "cell_type": "markdown",
   "id": "harmful-ethnic",
   "metadata": {},
   "source": [
    "Numpy의 경우, 주로 np라는 명칭으로 임포트하는 것이 관례이다."
   ]
  },
  {
   "cell_type": "code",
   "execution_count": 2,
   "id": "laughing-fusion",
   "metadata": {},
   "outputs": [],
   "source": [
    "import numpy as np"
   ]
  },
  {
   "cell_type": "markdown",
   "id": "light-creek",
   "metadata": {},
   "source": [
    "\n",
    "#### Numpy의 주요 모듈\n",
    "\n",
    "1. nparray() # 리스트, 튜플, 배열로부터 ndarray를 생성\n",
    "2. np.asarray() # 기존의 array로부터 ndarray를 생성\n",
    "3. np.arrange() # range와 비슷\n",
    "4. np.linspace(start, end, num) # [start, end] 균일한 간격으로 num개 생성\n",
    "5. np.logspace(start, end, num) # [start, end] log scale 간격으로 num개 생성"
   ]
  },
  {
   "cell_type": "markdown",
   "id": "ordinary-plaintiff",
   "metadata": {},
   "source": [
    "## 1) np.array()"
   ]
  },
  {
   "cell_type": "markdown",
   "id": "united-philippines",
   "metadata": {},
   "source": [
    "numpy의 핵심은 ndarray다. np.array()는 리스트 튜플, 배열로부터 ndarray를 생성한다. 또한 인덱스가 항상 0으로 시작한다는 특징을 갖고 있다."
   ]
  },
  {
   "cell_type": "markdown",
   "id": "editorial-element",
   "metadata": {},
   "source": [
    "리스트를 가지고 1차원 배열을 생성해보자"
   ]
  },
  {
   "cell_type": "code",
   "execution_count": 4,
   "id": "authentic-liver",
   "metadata": {},
   "outputs": [
    {
     "name": "stdout",
     "output_type": "stream",
     "text": [
      "<class 'numpy.ndarray'>\n",
      "[1 2 3 4 5]\n"
     ]
    }
   ],
   "source": [
    "a = np.array([1, 2, 3, 4, 5]) #리스트를 가지고 1차원 배열 생성\n",
    "print(type(a))\n",
    "print(a)"
   ]
  },
  {
   "cell_type": "markdown",
   "id": "worldwide-unemployment",
   "metadata": {},
   "source": [
    "타입이 numpy.ndarray라고 나오고 있으며, 배열로 생성되었음을 알 수 있다.\n",
    "\n",
    "이제 2차원 배열을 만들어보도록 하자.\n",
    "\n",
    "한 가지 주의할 점은 array() 안에 하나의 리스트만 들어가므로 리스트의 리스트를 넣어야 한다."
   ]
  },
  {
   "cell_type": "code",
   "execution_count": 8,
   "id": "flush-corrections",
   "metadata": {},
   "outputs": [
    {
     "name": "stdout",
     "output_type": "stream",
     "text": [
      "[[10 20 30]\n",
      " [60 70 80]]\n"
     ]
    }
   ],
   "source": [
    "b = np.array([[10, 20, 30], [ 60, 70, 80]]) \n",
    "print(b) #출력"
   ]
  },
  {
   "cell_type": "markdown",
   "id": "noble-directive",
   "metadata": {},
   "source": [
    "2차원 배열이 생성되었다. 행렬의 차원 및 크기를 ndim 속성과 shape 속성으로 출력할 수 있다."
   ]
  },
  {
   "cell_type": "code",
   "execution_count": 9,
   "id": "educated-blast",
   "metadata": {},
   "outputs": [
    {
     "name": "stdout",
     "output_type": "stream",
     "text": [
      "2\n",
      "(2, 3)\n"
     ]
    }
   ],
   "source": [
    "print(b.ndim)\n",
    "print(b.shape)"
   ]
  },
  {
   "cell_type": "markdown",
   "id": "increasing-hayes",
   "metadata": {},
   "source": [
    "위의 결과는 각각 2차원이며, 2X3 행렬임을 보여준다."
   ]
  },
  {
   "cell_type": "markdown",
   "id": "neural-trader",
   "metadata": {},
   "source": [
    "## 2) ndarray의 초기화"
   ]
  },
  {
   "cell_type": "markdown",
   "id": "engaged-serve",
   "metadata": {},
   "source": [
    "위에서는 리스트를 가지고 ndarray를 생성했지만, ndarray를 만드는 다양한 다른 방법이 존재한다. zeros()는 해당 배열에 모두 0을 삽입하고, ones()는 모두 1을 삽입한다. full()은 배열에 사용자가 지정한 값을 넣는데 사용하고, eye()는 대각선으로는 1이고 나머지는 0인 2차원을 생성한다."
   ]
  },
  {
   "cell_type": "code",
   "execution_count": 10,
   "id": "cooperative-raising",
   "metadata": {},
   "outputs": [
    {
     "name": "stdout",
     "output_type": "stream",
     "text": [
      "[[0. 0. 0.]\n",
      " [0. 0. 0.]]\n"
     ]
    }
   ],
   "source": [
    "a = np.zeros((2,3)) \n",
    "print(a)"
   ]
  },
  {
   "cell_type": "code",
   "execution_count": 11,
   "id": "liable-thailand",
   "metadata": {},
   "outputs": [
    {
     "name": "stdout",
     "output_type": "stream",
     "text": [
      "[[1. 1. 1.]\n",
      " [1. 1. 1.]]\n"
     ]
    }
   ],
   "source": [
    "a = np.ones((2,3))\n",
    "print(a)"
   ]
  },
  {
   "cell_type": "code",
   "execution_count": 13,
   "id": "aquatic-librarian",
   "metadata": {},
   "outputs": [
    {
     "name": "stdout",
     "output_type": "stream",
     "text": [
      "[[7 7]\n",
      " [7 7]]\n"
     ]
    }
   ],
   "source": [
    "a = np.full((2,2),7) # 모든 값이 특정 상수인 배열 생성. 이 경우에는 7.\n",
    "print(a)"
   ]
  },
  {
   "cell_type": "code",
   "execution_count": 14,
   "id": "distinguished-immunology",
   "metadata": {},
   "outputs": [
    {
     "name": "stdout",
     "output_type": "stream",
     "text": [
      "[[1. 0. 0.]\n",
      " [0. 1. 0.]\n",
      " [0. 0. 1.]]\n"
     ]
    }
   ],
   "source": [
    "a = np.eye(3)\n",
    "print(a)"
   ]
  },
  {
   "cell_type": "code",
   "execution_count": 15,
   "id": "hungarian-distinction",
   "metadata": {},
   "outputs": [
    {
     "name": "stdout",
     "output_type": "stream",
     "text": [
      "[[0.07987225 0.09588472]\n",
      " [0.86502982 0.53444607]]\n"
     ]
    }
   ],
   "source": [
    "a = np.random.random((2,2))\n",
    "print(a)"
   ]
  },
  {
   "cell_type": "markdown",
   "id": "recognized-diversity",
   "metadata": {},
   "source": [
    "## 3) np.arrange()"
   ]
  },
  {
   "cell_type": "markdown",
   "id": "serious-appeal",
   "metadata": {},
   "source": [
    "np.arrange()는 지정해준 범위에 대해서 배열을 생성해준다. np.arrange()의 범위 지정은 다음과 같다.\n",
    "\n",
    "numpyy.arrange(start, stop, step, dtype)\n",
    "a = np.arrange(n) # 0, ..., n-1까지의 범위 지정\n",
    "a = np.arrange(i, j, k) # i부터 j-1까지 k씩 증가하는 배열"
   ]
  },
  {
   "cell_type": "code",
   "execution_count": 17,
   "id": "industrial-composer",
   "metadata": {},
   "outputs": [
    {
     "name": "stdout",
     "output_type": "stream",
     "text": [
      "[0 1 2 3 4 5 6 7 8 9]\n"
     ]
    }
   ],
   "source": [
    "a = np.arange(10)\n",
    "print(a)"
   ]
  },
  {
   "cell_type": "code",
   "execution_count": 18,
   "id": "handed-freight",
   "metadata": {},
   "outputs": [
    {
     "data": {
      "text/plain": [
       "array([1, 3, 5, 7, 9])"
      ]
     },
     "execution_count": 18,
     "metadata": {},
     "output_type": "execute_result"
    }
   ],
   "source": [
    "np.arange(1, 10, 2)"
   ]
  },
  {
   "cell_type": "markdown",
   "id": "julian-surface",
   "metadata": {},
   "source": [
    "## 4) reshape()"
   ]
  },
  {
   "cell_type": "code",
   "execution_count": 19,
   "id": "administrative-differential",
   "metadata": {},
   "outputs": [
    {
     "name": "stdout",
     "output_type": "stream",
     "text": [
      "[[ 0  1  2  3  4  5]\n",
      " [ 6  7  8  9 10 11]\n",
      " [12 13 14 15 16 17]\n",
      " [18 19 20 21 22 23]\n",
      " [24 25 26 27 28 29]]\n"
     ]
    }
   ],
   "source": [
    "a = np.array(np.arange(30)).reshape((5,6))\n",
    "print(a)"
   ]
  },
  {
   "cell_type": "markdown",
   "id": "interracial-crowd",
   "metadata": {},
   "source": [
    "## 5) Numpy 슬라이싱"
   ]
  },
  {
   "cell_type": "markdown",
   "id": "premium-statistics",
   "metadata": {},
   "source": [
    "ndarray를 통해 만든 다차원 배열은 파이썬의 리스트처럼 슬라이스(Slice) 기능을 지원한다. 슬라이스 기능을 사용하면 원소들 중 복수 개에 접근할 수 있다."
   ]
  },
  {
   "cell_type": "code",
   "execution_count": 20,
   "id": "tight-young",
   "metadata": {},
   "outputs": [],
   "source": [
    "import numpy as np\n",
    "a = np.array([[1, 2, 3], [4, 5, 6]])"
   ]
  },
  {
   "cell_type": "code",
   "execution_count": 22,
   "id": "aging-excitement",
   "metadata": {},
   "outputs": [
    {
     "name": "stdout",
     "output_type": "stream",
     "text": [
      "[[1 2]\n",
      " [4 5]]\n"
     ]
    }
   ],
   "source": [
    "b = a[0:2, 0:2] # 각 차원별로 슬라이스 범위 지정\n",
    "print(b)"
   ]
  },
  {
   "cell_type": "code",
   "execution_count": 23,
   "id": "identified-trial",
   "metadata": {},
   "outputs": [
    {
     "name": "stdout",
     "output_type": "stream",
     "text": [
      "[1 2 3]\n"
     ]
    }
   ],
   "source": [
    "b = a[0, :] # 첫번째 행 출력\n",
    "print(b)"
   ]
  },
  {
   "cell_type": "code",
   "execution_count": 25,
   "id": "equal-concentration",
   "metadata": {},
   "outputs": [
    {
     "name": "stdout",
     "output_type": "stream",
     "text": [
      "[2 5]\n"
     ]
    }
   ],
   "source": [
    "b = a[:, 1] # 두번째 행 출력\n",
    "print(b)"
   ]
  },
  {
   "cell_type": "markdown",
   "id": "utility-momentum",
   "metadata": {},
   "source": [
    "## 6) Numpy 정수 인덱싱(integer indexing)"
   ]
  },
  {
   "cell_type": "markdown",
   "id": "desperate-origin",
   "metadata": {},
   "source": [
    "정수 인덱싱은 원본 파일로부터 부분 배열을 구한다."
   ]
  },
  {
   "cell_type": "code",
   "execution_count": 30,
   "id": "ambient-compound",
   "metadata": {},
   "outputs": [],
   "source": [
    "a = np.array([[1,2], [4,5], [7,8]])\n",
    "b = a[[2, 1],[1,0]] # a[[row2, row1], [col1, col0]]을 의미함"
   ]
  },
  {
   "cell_type": "code",
   "execution_count": 31,
   "id": "brilliant-valuable",
   "metadata": {},
   "outputs": [
    {
     "name": "stdout",
     "output_type": "stream",
     "text": [
      "[8 4]\n"
     ]
    }
   ],
   "source": [
    "print(b)"
   ]
  },
  {
   "cell_type": "markdown",
   "id": "roman-parking",
   "metadata": {},
   "source": [
    "## 7) Numpy 연산"
   ]
  },
  {
   "cell_type": "markdown",
   "id": "distributed-collaboration",
   "metadata": {},
   "source": [
    "Numpy를 사용하면 배열간 연산을 손쉽게 할 수 있다. +,-,*,/의 연산자를 사용할 수 있으며, 또는 add(), subtract(), multiply(), divide() 함수를 사용할 수도 있다."
   ]
  },
  {
   "cell_type": "code",
   "execution_count": 33,
   "id": "cellular-muslim",
   "metadata": {},
   "outputs": [],
   "source": [
    "x = np.array([1,2,3])\n",
    "y = np.array([4,5,6])"
   ]
  },
  {
   "cell_type": "code",
   "execution_count": 34,
   "id": "southern-owner",
   "metadata": {},
   "outputs": [
    {
     "name": "stdout",
     "output_type": "stream",
     "text": [
      "[5 7 9]\n"
     ]
    }
   ],
   "source": [
    "b = x + y # 각 요소에 대해서 더함\n",
    "# b = np.add(x, y)와 동일함\n",
    "print(b)"
   ]
  },
  {
   "cell_type": "code",
   "execution_count": 35,
   "id": "future-butler",
   "metadata": {},
   "outputs": [
    {
     "name": "stdout",
     "output_type": "stream",
     "text": [
      "[-3 -3 -3]\n"
     ]
    }
   ],
   "source": [
    "b = x - y # 각 요소에 대해서 빼기\n",
    "# b = np.subtract(x, y)와 동일함\n",
    "print(b)"
   ]
  },
  {
   "cell_type": "code",
   "execution_count": 36,
   "id": "banner-creator",
   "metadata": {},
   "outputs": [
    {
     "name": "stdout",
     "output_type": "stream",
     "text": [
      "[-3 -6 -9]\n"
     ]
    }
   ],
   "source": [
    "b = b * x # 각 요소에 대해서 곱셈\n",
    "# b = np.multiply(b, x)와 동일함\n",
    "print(b)"
   ]
  },
  {
   "cell_type": "code",
   "execution_count": 37,
   "id": "entertaining-sound",
   "metadata": {},
   "outputs": [
    {
     "name": "stdout",
     "output_type": "stream",
     "text": [
      "[-3. -3. -3.]\n"
     ]
    }
   ],
   "source": [
    "b = b / x # 각 요소에 대해서 나눗셈\n",
    "# b = np.divide(b, x)와 동일함\n",
    "print(b)"
   ]
  },
  {
   "cell_type": "markdown",
   "id": "handy-friendship",
   "metadata": {},
   "source": [
    "위에서 *를 통해 수항핸 것은 요소별 곱이었다.\n",
    "\n",
    "Numpy에서 벡터와 행렬의 곱 또는 행렬곱을 위해서는 dot()을 사용해야 한다."
   ]
  },
  {
   "cell_type": "code",
   "execution_count": 38,
   "id": "casual-bracelet",
   "metadata": {},
   "outputs": [
    {
     "name": "stdout",
     "output_type": "stream",
     "text": [
      "[[19 22]\n",
      " [43 50]]\n"
     ]
    }
   ],
   "source": [
    "a = np.array([[1,2], [3,4]])\n",
    "b = np.array([[5,6], [7,8]])\n",
    "\n",
    "c = np.dot(a, b)\n",
    "print(c)"
   ]
  }
 ],
 "metadata": {
  "kernelspec": {
   "display_name": "Python 3",
   "language": "python",
   "name": "python3"
  },
  "language_info": {
   "codemirror_mode": {
    "name": "ipython",
    "version": 3
   },
   "file_extension": ".py",
   "mimetype": "text/x-python",
   "name": "python",
   "nbconvert_exporter": "python",
   "pygments_lexer": "ipython3",
   "version": "3.8.7"
  }
 },
 "nbformat": 4,
 "nbformat_minor": 5
}
